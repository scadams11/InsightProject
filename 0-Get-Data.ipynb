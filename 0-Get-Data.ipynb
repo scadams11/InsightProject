{
 "cells": [
  {
   "cell_type": "code",
   "execution_count": 1,
   "metadata": {},
   "outputs": [],
   "source": [
    "import os\n",
    "import math\n",
    "import pandas as pd\n",
    "import numpy as np\n",
    "import urllib\n",
    "import matplotlib.pyplot as plt\n",
    "%matplotlib inline\n",
    "\n",
    "import psycopg2\n",
    "\n",
    "import datetime\n",
    "\n",
    "import hydrofunctions as hf\n",
    "\n",
    "import fbprophet \n",
    "\n",
    "# For inputting City information to get distance to sensors.\n",
    "from  geopy.geocoders import Nominatim\n",
    "\n",
    "# Date time conversion registration.\n",
    "from pandas.plotting import register_matplotlib_converters\n",
    "register_matplotlib_converters()\n"
   ]
  },
  {
   "cell_type": "code",
   "execution_count": 8,
   "metadata": {},
   "outputs": [
    {
     "data": {
      "text/html": [
       "<div>\n",
       "<style scoped>\n",
       "    .dataframe tbody tr th:only-of-type {\n",
       "        vertical-align: middle;\n",
       "    }\n",
       "\n",
       "    .dataframe tbody tr th {\n",
       "        vertical-align: top;\n",
       "    }\n",
       "\n",
       "    .dataframe thead th {\n",
       "        text-align: right;\n",
       "    }\n",
       "</style>\n",
       "<table border=\"1\" class=\"dataframe\">\n",
       "  <thead>\n",
       "    <tr style=\"text-align: right;\">\n",
       "      <th></th>\n",
       "      <th>site_no</th>\n",
       "      <th>station_nm</th>\n",
       "      <th>dec_lat_va</th>\n",
       "      <th>dec_long_va</th>\n",
       "    </tr>\n",
       "  </thead>\n",
       "  <tbody>\n",
       "    <tr>\n",
       "      <th>0</th>\n",
       "      <td>06614800</td>\n",
       "      <td>MICHIGAN RIVER NEAR CAMERON PASS, CO</td>\n",
       "      <td>40.496094</td>\n",
       "      <td>-105.865012</td>\n",
       "    </tr>\n",
       "    <tr>\n",
       "      <th>1</th>\n",
       "      <td>06620000</td>\n",
       "      <td>NORTH PLATTE RIVER NEAR NORTHGATE, CO</td>\n",
       "      <td>40.936639</td>\n",
       "      <td>-106.339194</td>\n",
       "    </tr>\n",
       "    <tr>\n",
       "      <th>2</th>\n",
       "      <td>06696980</td>\n",
       "      <td>TARRYALL CREEK AT UPPER STATION NEAR COMO, CO</td>\n",
       "      <td>39.339433</td>\n",
       "      <td>-105.911681</td>\n",
       "    </tr>\n",
       "    <tr>\n",
       "      <th>3</th>\n",
       "      <td>06700000</td>\n",
       "      <td>SOUTH PLATTE RIVER ABOVE CHEESMAN LAKE, CO.</td>\n",
       "      <td>39.162769</td>\n",
       "      <td>-105.310273</td>\n",
       "    </tr>\n",
       "    <tr>\n",
       "      <th>4</th>\n",
       "      <td>06701620</td>\n",
       "      <td>TROUT CREEK BLW FERN CR NR WESTCREEK, CO.</td>\n",
       "      <td>39.167491</td>\n",
       "      <td>-105.122211</td>\n",
       "    </tr>\n",
       "  </tbody>\n",
       "</table>\n",
       "</div>"
      ],
      "text/plain": [
       "    site_no                                     station_nm  dec_lat_va  \\\n",
       "0  06614800           MICHIGAN RIVER NEAR CAMERON PASS, CO   40.496094   \n",
       "1  06620000          NORTH PLATTE RIVER NEAR NORTHGATE, CO   40.936639   \n",
       "2  06696980  TARRYALL CREEK AT UPPER STATION NEAR COMO, CO   39.339433   \n",
       "3  06700000    SOUTH PLATTE RIVER ABOVE CHEESMAN LAKE, CO.   39.162769   \n",
       "4  06701620      TROUT CREEK BLW FERN CR NR WESTCREEK, CO.   39.167491   \n",
       "\n",
       "   dec_long_va  \n",
       "0  -105.865012  \n",
       "1  -106.339194  \n",
       "2  -105.911681  \n",
       "3  -105.310273  \n",
       "4  -105.122211  "
      ]
     },
     "execution_count": 8,
     "metadata": {},
     "output_type": "execute_result"
    }
   ],
   "source": [
    "## Reading in site data from 'Gage_sites.txt'\n",
    "file = 'Gage_sites.txt'\n",
    "sites = pd.read_csv(file, sep = '\\t', header = 39, skiprows = [40], dtype = {\"site_no\" : \"str\"})\n",
    "\n",
    "site_no = list(sites[\"site_no\"])\n",
    "site_loc = sites.filter(['site_no', 'station_nm', 'dec_lat_va', 'dec_long_va'])\n",
    "site_loc.head()"
   ]
  },
  {
   "cell_type": "code",
   "execution_count": 7,
   "metadata": {},
   "outputs": [
    {
     "data": {
      "text/plain": [
       "333"
      ]
     },
     "execution_count": 7,
     "metadata": {},
     "output_type": "execute_result"
    }
   ],
   "source": [
    "site_no.index('394220106431500') ## Has water temp data. Need to extract..."
   ]
  },
  {
   "cell_type": "code",
   "execution_count": 11,
   "metadata": {},
   "outputs": [
    {
     "name": "stdout",
     "output_type": "stream",
     "text": [
      "                        y flags                   ds\n",
      "datetime                                            \n",
      "2020-01-22 00:00:00  10.3     P  2020-01-22 00:00:00\n",
      "2020-01-23 00:00:00  10.2     P  2020-01-23 00:00:00\n",
      "2020-01-24 00:00:00  10.4     P  2020-01-24 00:00:00\n",
      "2020-01-25 00:00:00  10.7     P  2020-01-25 00:00:00\n",
      "2020-01-26 00:00:00  10.9     P  2020-01-26 00:00:00\n",
      "                      y  flags                   ds\n",
      "datetime                                           \n",
      "2020-01-22 00:00:00 NaN  P Ice  2020-01-22 00:00:00\n",
      "2020-01-23 00:00:00 NaN  P Ice  2020-01-23 00:00:00\n",
      "2020-01-24 00:00:00 NaN  P Ice  2020-01-24 00:00:00\n",
      "2020-01-25 00:00:00 NaN  P Ice  2020-01-25 00:00:00\n",
      "2020-01-26 00:00:00 NaN  P Ice  2020-01-26 00:00:00\n",
      "                         y flags                   ds\n",
      "datetime                                             \n",
      "2019-10-27 00:00:00   4.33     P  2019-10-27 00:00:00\n",
      "2019-10-28 00:00:00  12.50     P  2019-10-28 00:00:00\n",
      "2019-10-29 00:00:00  11.50     P  2019-10-29 00:00:00\n",
      "2019-10-30 00:00:00   7.76     P  2019-10-30 00:00:00\n",
      "2019-10-31 00:00:00  14.10     P  2019-10-31 00:00:00\n"
     ]
    }
   ],
   "source": [
    "start = '2000-01-01'\n",
    "end = str(datetime.datetime.today().strftime('%Y-%m-%d')) #Gets today's date.\n",
    "\n",
    "for site in site_no[332:335] :\n",
    "    herring = hf.NWIS(site, 'dv', start, end)\n",
    "    herring.get_data()\n",
    "    my_dict = herring.json()\n",
    "    df = hf.extract_nwis_df(my_dict)\n",
    "    df.rename(index=str, columns = {\"USGS:\"+site+\":00060:00003\" : \"y\", \n",
    "                                    \"USGS:\"+site+\":00060:00003_qualifiers\" : \"flags\"}, \n",
    "             inplace = True)\n",
    "    df['ds'] = df.index[:]\n",
    "    print(df.tail())\n"
   ]
  },
  {
   "cell_type": "code",
   "execution_count": 14,
   "metadata": {},
   "outputs": [
    {
     "data": {
      "text/html": [
       "<div>\n",
       "<style scoped>\n",
       "    .dataframe tbody tr th:only-of-type {\n",
       "        vertical-align: middle;\n",
       "    }\n",
       "\n",
       "    .dataframe tbody tr th {\n",
       "        vertical-align: top;\n",
       "    }\n",
       "\n",
       "    .dataframe thead th {\n",
       "        text-align: right;\n",
       "    }\n",
       "</style>\n",
       "<table border=\"1\" class=\"dataframe\">\n",
       "  <thead>\n",
       "    <tr style=\"text-align: right;\">\n",
       "      <th></th>\n",
       "      <th>y</th>\n",
       "      <th>flags</th>\n",
       "      <th>ds</th>\n",
       "    </tr>\n",
       "    <tr>\n",
       "      <th>datetime</th>\n",
       "      <th></th>\n",
       "      <th></th>\n",
       "      <th></th>\n",
       "    </tr>\n",
       "  </thead>\n",
       "  <tbody>\n",
       "    <tr>\n",
       "      <th>2012-03-01 00:00:00</th>\n",
       "      <td>5.45</td>\n",
       "      <td>A</td>\n",
       "      <td>2012-03-01 00:00:00</td>\n",
       "    </tr>\n",
       "    <tr>\n",
       "      <th>2012-03-02 00:00:00</th>\n",
       "      <td>7.81</td>\n",
       "      <td>A</td>\n",
       "      <td>2012-03-02 00:00:00</td>\n",
       "    </tr>\n",
       "    <tr>\n",
       "      <th>2012-03-03 00:00:00</th>\n",
       "      <td>6.88</td>\n",
       "      <td>A</td>\n",
       "      <td>2012-03-03 00:00:00</td>\n",
       "    </tr>\n",
       "  </tbody>\n",
       "</table>\n",
       "</div>"
      ],
      "text/plain": [
       "                        y flags                   ds\n",
       "datetime                                            \n",
       "2012-03-01 00:00:00  5.45     A  2012-03-01 00:00:00\n",
       "2012-03-02 00:00:00  7.81     A  2012-03-02 00:00:00\n",
       "2012-03-03 00:00:00  6.88     A  2012-03-03 00:00:00"
      ]
     },
     "execution_count": 14,
     "metadata": {},
     "output_type": "execute_result"
    }
   ],
   "source": [
    "df.iloc[0:3]"
   ]
  },
  {
   "cell_type": "code",
   "execution_count": 16,
   "metadata": {},
   "outputs": [],
   "source": [
    "df.plot()\n",
    "plt.xlabel('Date')\n",
    "plt.yscale('log')\n",
    "plt.ylabel('Discharge (cfs)')\n",
    "plt.title('Daily Mean Discharge for Roaring Fork River')\n",
    "plt.savefig('RRFork1.png')\n",
    "plt.close()"
   ]
  },
  {
   "cell_type": "code",
   "execution_count": 8,
   "metadata": {},
   "outputs": [
    {
     "data": {
      "text/html": [
       "<div>\n",
       "<style scoped>\n",
       "    .dataframe tbody tr th:only-of-type {\n",
       "        vertical-align: middle;\n",
       "    }\n",
       "\n",
       "    .dataframe tbody tr th {\n",
       "        vertical-align: top;\n",
       "    }\n",
       "\n",
       "    .dataframe thead th {\n",
       "        text-align: right;\n",
       "    }\n",
       "</style>\n",
       "<table border=\"1\" class=\"dataframe\">\n",
       "  <thead>\n",
       "    <tr style=\"text-align: right;\">\n",
       "      <th></th>\n",
       "      <th>y</th>\n",
       "      <th>flags</th>\n",
       "      <th>ds</th>\n",
       "    </tr>\n",
       "    <tr>\n",
       "      <th>datetime</th>\n",
       "      <th></th>\n",
       "      <th></th>\n",
       "      <th></th>\n",
       "    </tr>\n",
       "  </thead>\n",
       "  <tbody>\n",
       "    <tr>\n",
       "      <th>2000-01-23 00:00:00</th>\n",
       "      <td>252.0</td>\n",
       "      <td>A</td>\n",
       "      <td>2000-01-23 00:00:00</td>\n",
       "    </tr>\n",
       "    <tr>\n",
       "      <th>2000-01-24 00:00:00</th>\n",
       "      <td>252.0</td>\n",
       "      <td>A</td>\n",
       "      <td>2000-01-24 00:00:00</td>\n",
       "    </tr>\n",
       "    <tr>\n",
       "      <th>2000-01-25 00:00:00</th>\n",
       "      <td>264.0</td>\n",
       "      <td>A</td>\n",
       "      <td>2000-01-25 00:00:00</td>\n",
       "    </tr>\n",
       "    <tr>\n",
       "      <th>2000-01-26 00:00:00</th>\n",
       "      <td>271.0</td>\n",
       "      <td>A</td>\n",
       "      <td>2000-01-26 00:00:00</td>\n",
       "    </tr>\n",
       "    <tr>\n",
       "      <th>2000-01-27 00:00:00</th>\n",
       "      <td>262.0</td>\n",
       "      <td>A</td>\n",
       "      <td>2000-01-27 00:00:00</td>\n",
       "    </tr>\n",
       "  </tbody>\n",
       "</table>\n",
       "</div>"
      ],
      "text/plain": [
       "                         y flags                   ds\n",
       "datetime                                             \n",
       "2000-01-23 00:00:00  252.0     A  2000-01-23 00:00:00\n",
       "2000-01-24 00:00:00  252.0     A  2000-01-24 00:00:00\n",
       "2000-01-25 00:00:00  264.0     A  2000-01-25 00:00:00\n",
       "2000-01-26 00:00:00  271.0     A  2000-01-26 00:00:00\n",
       "2000-01-27 00:00:00  262.0     A  2000-01-27 00:00:00"
      ]
     },
     "execution_count": 8,
     "metadata": {},
     "output_type": "execute_result"
    }
   ],
   "source": [
    "df.rename(index=str, columns = {\"USGS:09081000:00060:00003\" : \"y\", \n",
    "                                \"USGS:09081000:00060:00003_qualifiers\" : \"flags\"}, \n",
    "         inplace = True)\n",
    "\n",
    "df['ds'] = df.index[:]\n",
    "\n",
    "df.head()"
   ]
  },
  {
   "cell_type": "code",
   "execution_count": 9,
   "metadata": {},
   "outputs": [
    {
     "data": {
      "text/plain": [
       "<fbprophet.forecaster.Prophet at 0x115c026a0>"
      ]
     },
     "execution_count": 9,
     "metadata": {},
     "output_type": "execute_result"
    }
   ],
   "source": [
    "df_prophet = fbprophet.Prophet(changepoint_prior_scale=0.05, daily_seasonality=True, interval_width = 0.25)\n",
    "df_prophet.fit(df)"
   ]
  },
  {
   "cell_type": "code",
   "execution_count": 10,
   "metadata": {},
   "outputs": [],
   "source": [
    "df_forecast = df_prophet.make_future_dataframe(periods=365 * 1, freq='D')\n",
    "df_forecast = df_prophet.predict(df_forecast)"
   ]
  },
  {
   "cell_type": "code",
   "execution_count": 11,
   "metadata": {},
   "outputs": [],
   "source": [
    "df_prophet.plot(df_forecast, xlabel = 'Date', ylabel = 'Discharge (cfs)')\n",
    "plt.title('Discharge at ROARING FORK RIVER NEAR EMMA, CO')\n",
    "plt.ylim(55,6000)\n",
    "plt.yscale('log')\n",
    "plt.savefig('RRFork1_Pred.png')\n",
    "plt.close()"
   ]
  },
  {
   "cell_type": "code",
   "execution_count": 12,
   "metadata": {},
   "outputs": [],
   "source": [
    "df_prophet.plot_components(df_forecast)\n",
    "plt.savefig('RRFork1_Components.png')\n",
    "plt.close()"
   ]
  },
  {
   "cell_type": "code",
   "execution_count": 15,
   "metadata": {},
   "outputs": [
    {
     "name": "stdout",
     "output_type": "stream",
     "text": [
      "Help on NWIS in module hydrofunctions.station object:\n",
      "\n",
      "class NWIS(Station)\n",
      " |  A class for working with data from the USGS NWIS service.\n",
      " |  \n",
      " |  description\n",
      " |  \n",
      " |  Args:\n",
      " |      site (str or list of strings):\n",
      " |          a valid site is '01585200' or ['01585200', '01646502']. Site\n",
      " |          should be None if stateCd or countyCd are not None.\n",
      " |  \n",
      " |      service (str):\n",
      " |          can either be 'iv' or 'dv' for instantaneous or daily data.\n",
      " |          'dv'(default): daily values. Mean value for an entire day.\n",
      " |          'iv': instantaneous value measured at this time. Also known\n",
      " |          as 'Real-time data'. Can be measured as often as every\n",
      " |          five minutes by the USGS. 15 minutes is more typical.\n",
      " |  \n",
      " |      start_date (str):\n",
      " |         should take on the form yyyy-mm-dd\n",
      " |  \n",
      " |      end_date (str):\n",
      " |          should take on the form yyyy-mm-dd\n",
      " |  \n",
      " |      stateCd (str):\n",
      " |          a valid two-letter state postal abbreviation. Default is None.\n",
      " |  \n",
      " |      countyCd (str or list of strings):\n",
      " |          a valid county abbreviation. Default is None.\n",
      " |  \n",
      " |      bBox (str, list, or tuple):\n",
      " |          a set of coordinates that defines a bounding box.\n",
      " |              * Coordinates are in decimal degrees\n",
      " |              * Longitude values are negative (west of the prime meridian).\n",
      " |              * Latitude values are positive (north of the equator).\n",
      " |              * comma-delimited, no spaces, if provided as a string.\n",
      " |              * The order of the boundaries should be: \"West,South,East,North\"\n",
      " |              * Example: \"-83.000000,36.500000,-81.000000,38.500000\"\n",
      " |  \n",
      " |      parameterCd (str):\n",
      " |          NWIS parameter code. Default is stream discharge '00060'\n",
      " |              * stage: '00065'\n",
      " |              * discharge: '00060'\n",
      " |              * not all sites collect all parameters!\n",
      " |              * See https://nwis.waterdata.usgs.gov/usa/nwis/pmcodes for                 full list\n",
      " |  \n",
      " |      period (str):\n",
      " |          NWIS period code. Default is None.\n",
      " |              * Format is \"PxxD\", where xx is the number of days before                 today, with a maximum of 999 days accepted.\n",
      " |              * Either use start_date or period, but not both.\n",
      " |  \n",
      " |  Method resolution order:\n",
      " |      NWIS\n",
      " |      Station\n",
      " |      builtins.object\n",
      " |  \n",
      " |  Methods defined here:\n",
      " |  \n",
      " |  __init__(self, site=None, service='dv', start_date=None, end_date=None, stateCd=None, countyCd=None, bBox=None, parameterCd='00060', period=None)\n",
      " |      Initialize self.  See help(type(self)) for accurate signature.\n",
      " |  \n",
      " |  get_data(self)\n",
      " |  \n",
      " |  ----------------------------------------------------------------------\n",
      " |  Data descriptors inherited from Station:\n",
      " |  \n",
      " |  __dict__\n",
      " |      dictionary for instance variables (if defined)\n",
      " |  \n",
      " |  __weakref__\n",
      " |      list of weak references to the object (if defined)\n",
      " |  \n",
      " |  ----------------------------------------------------------------------\n",
      " |  Data and other attributes inherited from Station:\n",
      " |  \n",
      " |  station_dict = {}\n",
      "\n"
     ]
    }
   ],
   "source": [
    "help(herring)"
   ]
  },
  {
   "cell_type": "code",
   "execution_count": null,
   "metadata": {},
   "outputs": [],
   "source": []
  }
 ],
 "metadata": {
  "kernelspec": {
   "display_name": "Python 3",
   "language": "python",
   "name": "python3"
  },
  "language_info": {
   "codemirror_mode": {
    "name": "ipython",
    "version": 3
   },
   "file_extension": ".py",
   "mimetype": "text/x-python",
   "name": "python",
   "nbconvert_exporter": "python",
   "pygments_lexer": "ipython3",
   "version": "3.6.10"
  }
 },
 "nbformat": 4,
 "nbformat_minor": 2
}
