{
 "cells": [
  {
   "cell_type": "code",
   "execution_count": 14,
   "metadata": {},
   "outputs": [],
   "source": [
    "def BinSearch ( a:list, num:int ):\n",
    "    first = int(0)\n",
    "    last = int(len(a) - 1)\n",
    "    found = False\n",
    "\n",
    "    while found == False:\n",
    "        mid = int((last - first)/2)\n",
    "        if a[mid] > num:\n",
    "            last = mid\n",
    "            found = False\n",
    "        elif a[mid] < num:\n",
    "            first = mid\n",
    "            found = False\n",
    "        elif a[mid] == num:\n",
    "            found = True\n",
    "        elif (mid == last or mid == first):\n",
    "            break\n",
    "    \n",
    "    return found, mid"
   ]
  },
  {
   "cell_type": "code",
   "execution_count": 16,
   "metadata": {},
   "outputs": [
    {
     "ename": "KeyboardInterrupt",
     "evalue": "",
     "output_type": "error",
     "traceback": [
      "\u001b[0;31m---------------------------------------------------------------------------\u001b[0m",
      "\u001b[0;31mKeyboardInterrupt\u001b[0m                         Traceback (most recent call last)",
      "\u001b[0;32m<ipython-input-16-40598d2ffd79>\u001b[0m in \u001b[0;36m<module>\u001b[0;34m\u001b[0m\n\u001b[1;32m      1\u001b[0m \u001b[0ma\u001b[0m \u001b[0;34m=\u001b[0m \u001b[0;34m[\u001b[0m\u001b[0;36m1\u001b[0m\u001b[0;34m,\u001b[0m \u001b[0;36m2\u001b[0m\u001b[0;34m,\u001b[0m \u001b[0;36m4\u001b[0m\u001b[0;34m,\u001b[0m \u001b[0;36m6\u001b[0m\u001b[0;34m,\u001b[0m \u001b[0;36m7\u001b[0m\u001b[0;34m]\u001b[0m\u001b[0;34m\u001b[0m\u001b[0;34m\u001b[0m\u001b[0m\n\u001b[1;32m      2\u001b[0m \u001b[0mnum\u001b[0m \u001b[0;34m=\u001b[0m \u001b[0;36m3\u001b[0m\u001b[0;34m\u001b[0m\u001b[0;34m\u001b[0m\u001b[0m\n\u001b[0;32m----> 3\u001b[0;31m \u001b[0mBinSearch\u001b[0m\u001b[0;34m(\u001b[0m\u001b[0ma\u001b[0m\u001b[0;34m,\u001b[0m \u001b[0mnum\u001b[0m\u001b[0;34m)\u001b[0m\u001b[0;34m\u001b[0m\u001b[0;34m\u001b[0m\u001b[0m\n\u001b[0m",
      "\u001b[0;32m<ipython-input-14-12e69b65ad75>\u001b[0m in \u001b[0;36mBinSearch\u001b[0;34m(a, num)\u001b[0m\n\u001b[1;32m      5\u001b[0m \u001b[0;34m\u001b[0m\u001b[0m\n\u001b[1;32m      6\u001b[0m     \u001b[0;32mwhile\u001b[0m \u001b[0mfound\u001b[0m \u001b[0;34m==\u001b[0m \u001b[0;32mFalse\u001b[0m\u001b[0;34m:\u001b[0m\u001b[0;34m\u001b[0m\u001b[0;34m\u001b[0m\u001b[0m\n\u001b[0;32m----> 7\u001b[0;31m         \u001b[0mmid\u001b[0m \u001b[0;34m=\u001b[0m \u001b[0mint\u001b[0m\u001b[0;34m(\u001b[0m\u001b[0;34m(\u001b[0m\u001b[0mlast\u001b[0m \u001b[0;34m-\u001b[0m \u001b[0mfirst\u001b[0m\u001b[0;34m)\u001b[0m\u001b[0;34m/\u001b[0m\u001b[0;36m2\u001b[0m\u001b[0;34m)\u001b[0m\u001b[0;34m\u001b[0m\u001b[0;34m\u001b[0m\u001b[0m\n\u001b[0m\u001b[1;32m      8\u001b[0m         \u001b[0;32mif\u001b[0m \u001b[0ma\u001b[0m\u001b[0;34m[\u001b[0m\u001b[0mmid\u001b[0m\u001b[0;34m]\u001b[0m \u001b[0;34m>\u001b[0m \u001b[0mnum\u001b[0m\u001b[0;34m:\u001b[0m\u001b[0;34m\u001b[0m\u001b[0;34m\u001b[0m\u001b[0m\n\u001b[1;32m      9\u001b[0m             \u001b[0mlast\u001b[0m \u001b[0;34m=\u001b[0m \u001b[0mmid\u001b[0m\u001b[0;34m\u001b[0m\u001b[0;34m\u001b[0m\u001b[0m\n",
      "\u001b[0;31mKeyboardInterrupt\u001b[0m: "
     ]
    }
   ],
   "source": [
    "a = [1, 2, 4, 6, 7]\n",
    "num = 3\n",
    "BinSearch(a, num)"
   ]
  },
  {
   "cell_type": "code",
   "execution_count": 5,
   "metadata": {},
   "outputs": [
    {
     "data": {
      "text/plain": [
       "'I'"
      ]
     },
     "execution_count": 5,
     "metadata": {},
     "output_type": "execute_result"
    }
   ],
   "source": [
    "Rom_Str = 'IVVX'\n",
    "for char in Rom_Str :\n",
    "    "
   ]
  },
  {
   "cell_type": "code",
   "execution_count": 14,
   "metadata": {},
   "outputs": [
    {
     "name": "stdout",
     "output_type": "stream",
     "text": [
      "9\n",
      "LLXLXLXLXLIX\n"
     ]
    }
   ],
   "source": [
    "num = 499\n",
    "rn = ''\n",
    "\n",
    "if (num / 100) >= 1:\n",
    "    rn_100 = int(round(num / 100, 1))\n",
    "    for i in range(rn_100):\n",
    "        if rn_100 < 4 :\n",
    "            rn = rn + 'C'\n",
    "        elif rn_100 == 4 :\n",
    "            rn = rn + 'CD'\n",
    "    num_50 = num % 100\n",
    "\n",
    "if (num_50 / 50) >= 1:\n",
    "    rn_50 = int(round(num_50 / 50, 1))\n",
    "    for j in range(rn_50):\n",
    "        if rn_50 < 4 :\n",
    "            rn = rn + 'L'\n",
    "        elif rn_50 == 4 :\n",
    "            rn = rn + 'LC'\n",
    "    num_10 = num_50 % 50\n",
    "\n",
    "if (num_10 / 10) >= 1:\n",
    "    rn_10 = int(round(num_10 / 10, 1))\n",
    "    for k in range(rn_10):\n",
    "        if rn_10 < 4 :\n",
    "            rn = rn + 'X'\n",
    "        elif rn_10 == 4 :\n",
    "            rn = rn + 'XL'\n",
    "    num_1 = num_10 % 10\n",
    "\n",
    "print(num_1)    \n",
    "\n",
    "if (num_1 / 1) >= 1:\n",
    "    rn_1 = int(round(num_1 / 1, 1))\n",
    "    if rn_1 == 9:\n",
    "        rn = rn + 'IX'\n",
    "    elif rn_1 >= 5:\n",
    "        rn = rn + 'V'\n",
    "        more_I = int(num_1 % 5)\n",
    "        for i in range(more_I):\n",
    "            rn = rn + 'I'\n",
    "    elif rn_1 == 4:\n",
    "        rn = rn + 'IV'\n",
    "    elif rn_1 < 4 :\n",
    "        for m in range(rn_1):\n",
    "            rn = rn + 'I'\n",
    "\n",
    "print(rn)"
   ]
  },
  {
   "cell_type": "code",
   "execution_count": 6,
   "metadata": {},
   "outputs": [
    {
     "name": "stdout",
     "output_type": "stream",
     "text": [
      "[100, 200, 1000, 300, 400, 500]\n",
      "[200, 100, 300, 400, 500, 1000]\n"
     ]
    }
   ],
   "source": [
    "l = [200, 100, 300, 200, 400, 300, 500, 1000]\n",
    "\n",
    "l_new = list(set(l))\n",
    "print(l_new)\n",
    "\n",
    "new_l = []\n",
    "for i in l :\n",
    "    if i in new_l :\n",
    "        continue\n",
    "    else :\n",
    "        new_l.append(i)\n",
    "\n",
    "print(new_l)"
   ]
  },
  {
   "cell_type": "code",
   "execution_count": 65,
   "metadata": {},
   "outputs": [
    {
     "name": "stdout",
     "output_type": "stream",
     "text": [
      "{34: 77.5, 10: 5.0, 12: 53.0, 45: 45.0}\n"
     ]
    }
   ],
   "source": [
    "import pandas as pd\n",
    "import numpy as np\n",
    "\n",
    "Account_ID = [12, 12, 34, 12, 45, 45, 12, 34, 10]\n",
    "Revenue = [50, 50, 35, 12, 34, 56, 100, 120, 5]\n",
    "\n",
    "data = {\"Account_ID\":Account_ID, \"Revenue\":Revenue}\n",
    "df = pd.DataFrame(data=data)\n",
    "\n",
    "acct = list(set(df.Account_ID))\n",
    "rev_dict = {}\n",
    "\n",
    "for i in acct:\n",
    "    temp = []\n",
    "    temp.append(df.Revenue[df.Account_ID == i].values)\n",
    "    Sum = np.sum(temp)\n",
    "    mu = Sum/np.size(temp)\n",
    "    rev_dict[i] = mu\n",
    "    \n",
    "print(rev_dict)"
   ]
  },
  {
   "cell_type": "code",
   "execution_count": 16,
   "metadata": {},
   "outputs": [
    {
     "name": "stdout",
     "output_type": "stream",
     "text": [
      "   Account_ID  Revenue\n",
      "0          12       50\n",
      "1          12       50\n",
      "2          34       35\n",
      "3          12       12\n",
      "4          45       34\n",
      "5          45       56\n",
      "6          12      100\n",
      "7          34      120\n",
      "8          10        5\n"
     ]
    }
   ],
   "source": []
  },
  {
   "cell_type": "code",
   "execution_count": null,
   "metadata": {},
   "outputs": [],
   "source": []
  }
 ],
 "metadata": {
  "kernelspec": {
   "display_name": "Python 3",
   "language": "python",
   "name": "python3"
  },
  "language_info": {
   "codemirror_mode": {
    "name": "ipython",
    "version": 3
   },
   "file_extension": ".py",
   "mimetype": "text/x-python",
   "name": "python",
   "nbconvert_exporter": "python",
   "pygments_lexer": "ipython3",
   "version": "3.6.10"
  }
 },
 "nbformat": 4,
 "nbformat_minor": 2
}
